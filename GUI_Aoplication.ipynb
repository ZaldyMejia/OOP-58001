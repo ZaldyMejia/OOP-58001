{
  "nbformat": 4,
  "nbformat_minor": 0,
  "metadata": {
    "colab": {
      "name": "GUI Aoplication.ipynb",
      "provenance": [],
      "authorship_tag": "ABX9TyMKH4mBMM/N2uPH/wao3Hol",
      "include_colab_link": true
    },
    "kernelspec": {
      "name": "python3",
      "display_name": "Python 3"
    },
    "language_info": {
      "name": "python"
    }
  },
  "cells": [
    {
      "cell_type": "markdown",
      "metadata": {
        "id": "view-in-github",
        "colab_type": "text"
      },
      "source": [
        "<a href=\"https://colab.research.google.com/github/ZaldyMejia/OOP-58001/blob/main/GUI_Aoplication.ipynb\" target=\"_parent\"><img src=\"https://colab.research.google.com/assets/colab-badge.svg\" alt=\"Open In Colab\"/></a>"
      ]
    },
    {
      "cell_type": "markdown",
      "source": [
        "Create a Python program that displays the grades of the students"
      ],
      "metadata": {
        "id": "7xFOwDDu_qQJ"
      }
    },
    {
      "cell_type": "code",
      "execution_count": 7,
      "metadata": {
        "colab": {
          "base_uri": "https://localhost:8080/"
        },
        "id": "Vuk2qMTv_lo5",
        "outputId": "5c28f33c-aeb7-4589-abbc-002bc4eef625"
      },
      "outputs": [
        {
          "output_type": "stream",
          "name": "stdout",
          "text": [
            "Student Name: Bruh\n",
            "Semestral grade of the student: 89.7\n"
          ]
        }
      ],
      "source": [
        "#@title Student's grade in OOP\n",
        "Student_Name = \"Bruh\" #@param{type: \"string\"}\n",
        "\n",
        "prelim =  89#@param{type: \"number\"}\n",
        "midterms = 90 #@param{type: \"number\"}\n",
        "final = 90 #@param{type: \"number\"}\n",
        "semestral = (prelim*0.30+midterms*0.30+final*0.40)\n",
        "\n",
        "\n",
        "print(\"Student Name: \" + Student_Name)\n",
        "print(\"Semestral grade of the student: \" + str(semestral))"
      ]
    },
    {
      "cell_type": "code",
      "source": [
        "#@title Gender\n",
        "\n",
        "Male = False #@param {type: \"boolean\"}\n",
        "Female = False #@param {type: \"boolean\"}\n",
        "Birthdate = \"2022-03-10\" #@param {type:\"date\"}\n",
        "\n",
        "print (\"My birthdate is \" + Birthdate)\n",
        "print (\"My gender is \" + str(Male))\n",
        "\n"
      ],
      "metadata": {
        "colab": {
          "base_uri": "https://localhost:8080/"
        },
        "id": "gkqNaH8oDxf1",
        "outputId": "551534a8-2f3c-4937-a62b-63088965708b"
      },
      "execution_count": 13,
      "outputs": [
        {
          "output_type": "stream",
          "name": "stdout",
          "text": [
            "My birthdate is 2022-03-10\n",
            "My gender is False\n"
          ]
        }
      ]
    }
  ]
}