{
  "nbformat": 4,
  "nbformat_minor": 0,
  "metadata": {
    "colab": {
      "name": "GUI Aoplication.ipynb",
      "provenance": [],
      "authorship_tag": "ABX9TyPZhO+ppTmUPhslksxXuV9K",
      "include_colab_link": true
    },
    "kernelspec": {
      "name": "python3",
      "display_name": "Python 3"
    },
    "language_info": {
      "name": "python"
    }
  },
  "cells": [
    {
      "cell_type": "markdown",
      "metadata": {
        "id": "view-in-github",
        "colab_type": "text"
      },
      "source": [
        "<a href=\"https://colab.research.google.com/github/ZaldyMejia/OOP-58001/blob/main/GUI_Application.ipynb\" target=\"_parent\"><img src=\"https://colab.research.google.com/assets/colab-badge.svg\" alt=\"Open In Colab\"/></a>"
      ]
    },
    {
      "cell_type": "markdown",
      "source": [
        "Create a Python program that displays the grades of the students"
      ],
      "metadata": {
        "id": "7xFOwDDu_qQJ"
      }
    },
    {
      "cell_type": "code",
      "execution_count": 18,
      "metadata": {
        "colab": {
          "base_uri": "https://localhost:8080/"
        },
        "id": "Vuk2qMTv_lo5",
        "outputId": "bf013ee6-1f6e-4dd5-a026-c383262d6e50"
      },
      "outputs": [
        {
          "output_type": "stream",
          "name": "stdout",
          "text": [
            "Student Name: Zaldy Mejia\n",
            "Semestral grade of the student: 89.7\n"
          ]
        }
      ],
      "source": [
        "#@title Student's grade in OOP\n",
        "Student_Name = \"Zaldy Mejia\" #@param{type: \"string\"}\n",
        "\n",
        "prelim =  89#@param{type: \"number\"}\n",
        "midterms = 90 #@param{type: \"number\"}\n",
        "final = 90 #@param{type: \"number\"}\n",
        "semestral = (prelim*0.30+midterms*0.30+final*0.40)\n",
        "\n",
        "\n",
        "print(\"Student Name: \" + Student_Name)\n",
        "print(\"Semestral grade of the student: \" + str(semestral))"
      ]
    },
    {
      "cell_type": "code",
      "source": [
        "#@title Gender\n",
        "\n",
        "Gender = \"Male\" #@param [\"Male\", \"Female\", \"Non-Binary\", \"Transgender\", \"Intersexual\", \"I prefer not to say\"]\n",
        "Birthdate = \"2002-12-20\" #@param {type:\"date\"}\n",
        "\n",
        "print (\"My gender is %s\" %(Gender))\n",
        "print (\"My birthdate is %s\" %str(Birthdate))\n",
        "\n"
      ],
      "metadata": {
        "colab": {
          "base_uri": "https://localhost:8080/"
        },
        "id": "gkqNaH8oDxf1",
        "outputId": "b5a2e8d5-5d50-440d-806e-827ea9e27529"
      },
      "execution_count": 21,
      "outputs": [
        {
          "output_type": "stream",
          "name": "stdout",
          "text": [
            "My gender is Male\n",
            "My birthdate is 2002-12-20\n"
          ]
        }
      ]
    }
  ]
}