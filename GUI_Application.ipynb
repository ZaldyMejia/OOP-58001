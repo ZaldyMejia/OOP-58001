{
  "nbformat": 4,
  "nbformat_minor": 0,
  "metadata": {
    "colab": {
      "name": "GUI Aoplication.ipynb",
      "provenance": [],
      "authorship_tag": "ABX9TyO23oOJqw9Hwrkenul5vHo8",
      "include_colab_link": true
    },
    "kernelspec": {
      "name": "python3",
      "display_name": "Python 3"
    },
    "language_info": {
      "name": "python"
    }
  },
  "cells": [
    {
      "cell_type": "markdown",
      "metadata": {
        "id": "view-in-github",
        "colab_type": "text"
      },
      "source": [
        "<a href=\"https://colab.research.google.com/github/ZaldyMejia/OOP-58001/blob/main/GUI_Application.ipynb\" target=\"_parent\"><img src=\"https://colab.research.google.com/assets/colab-badge.svg\" alt=\"Open In Colab\"/></a>"
      ]
    },
    {
      "cell_type": "markdown",
      "source": [
        "Create a Python program that displays the grades of the students"
      ],
      "metadata": {
        "id": "7xFOwDDu_qQJ"
      }
    },
    {
      "cell_type": "code",
      "execution_count": 14,
      "metadata": {
        "colab": {
          "base_uri": "https://localhost:8080/"
        },
        "id": "Vuk2qMTv_lo5",
        "outputId": "970c0beb-fa4b-46d9-b01e-119d2f54f93a"
      },
      "outputs": [
        {
          "output_type": "stream",
          "name": "stdout",
          "text": [
            "Student Name: Bruh\n",
            "Semestral grade of the student: 89.7\n"
          ]
        }
      ],
      "source": [
        "#@title Student's grade in OOP\n",
        "Student_Name = \"Bruh\" #@param{type: \"string\"}\n",
        "\n",
        "prelim =  89#@param{type: \"number\"}\n",
        "midterms = 90 #@param{type: \"number\"}\n",
        "final = 90 #@param{type: \"number\"}\n",
        "semestral = (prelim*0.30+midterms*0.30+final*0.40)\n",
        "\n",
        "\n",
        "print(\"Student Name: \" + Student_Name)\n",
        "print(\"Semestral grade of the student: \" + str(semestral))"
      ]
    },
    {
      "cell_type": "code",
      "source": [
        "#@title Gender\n",
        "\n",
        "Gender = \"Male\" #@param [\"Male\", \"Female\", \"Non-Binary\", \"Transgender\", \"Intersexual\", \"I prefer not to say\"]\n",
        "Birthdate = \"2002-12-20\" #@param {type:\"date\"}\n",
        "\n",
        "print (\"My gender is %s\" %(Gender))\n",
        "print (\"My birthdate is \" + Birthdate)\n",
        "\n"
      ],
      "metadata": {
        "colab": {
          "base_uri": "https://localhost:8080/"
        },
        "id": "gkqNaH8oDxf1",
        "outputId": "85aaff7c-c75b-4cb5-a5cb-a7d20ffa531a"
      },
      "execution_count": 15,
      "outputs": [
        {
          "output_type": "stream",
          "name": "stdout",
          "text": [
            "My gender is Male\n",
            "My birthdate is 2002-12-20\n"
          ]
        }
      ]
    },
    {
      "cell_type": "code",
      "source": [
        "#@title Gender\n",
        "\n",
        "Male = 85 #@param {type:\"slider\", min:0, max:100, step:1}\n",
        "Female = 0 #@param {type:\"slider\", min:0, max:100, step:1}\n",
        "Birthdate = \"2022-03-10\" #@param {type:\"date\"}\n",
        "\n",
        "print (\"My birthdate is \" + Birthdate)\n",
        "print (\"My gender is \" + str(Male))\n"
      ],
      "metadata": {
        "colab": {
          "base_uri": "https://localhost:8080/"
        },
        "id": "PFaYRaKZexHu",
        "outputId": "e090973d-71bc-4a3f-ee87-9bbf4baca10e"
      },
      "execution_count": 16,
      "outputs": [
        {
          "output_type": "stream",
          "name": "stdout",
          "text": [
            "My birthdate is 2022-03-10\n",
            "My gender is 85\n"
          ]
        }
      ]
    }
  ]
}