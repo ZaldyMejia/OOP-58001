{
  "nbformat": 4,
  "nbformat_minor": 0,
  "metadata": {
    "colab": {
      "name": "Employee Gross pay program.ipynb",
      "provenance": [],
      "authorship_tag": "ABX9TyNJARu5IG28LeARfNB+6OCt",
      "include_colab_link": true
    },
    "kernelspec": {
      "name": "python3",
      "display_name": "Python 3"
    },
    "language_info": {
      "name": "python"
    }
  },
  "cells": [
    {
      "cell_type": "markdown",
      "metadata": {
        "id": "view-in-github",
        "colab_type": "text"
      },
      "source": [
        "<a href=\"https://colab.research.google.com/github/ZaldyMejia/OOP-58001/blob/main/Employee_Gross_pay_program.ipynb\" target=\"_parent\"><img src=\"https://colab.research.google.com/assets/colab-badge.svg\" alt=\"Open In Colab\"/></a>"
      ]
    },
    {
      "cell_type": "code",
      "execution_count": 5,
      "metadata": {
        "id": "qQDmhLU72Bhc"
      },
      "outputs": [],
      "source": [
        "import random\n",
        "\n",
        "class Employee:\n",
        "    __JC = None\n",
        "    __GP = None\n",
        "    __HW = None\n",
        "    __HP = None\n",
        "    \n",
        "    def __init__(self, IDNO):\n",
        "        self.__IDNO = IDNO\n",
        "        __Name = None\n",
        "        __EM = None\n",
        "    \n",
        "    def Grosspay (self): #this is weekly, not gross pay\n",
        "        __GP = __HW * __HP\n",
        "    \n",
        "    def HW (self):\n",
        "        HW = random.randint(40,45)\n",
        "    \n",
        "    def database(self):\n",
        "        pass\n",
        "    \n",
        "        \n",
        "class ConceptArtist (Employee):\n",
        "    \n",
        "    __HP = 118.32\n",
        "    \n",
        "    def database(self):\n",
        "        if IDNO == \"1b05221e\":\n",
        "         __EM = 1\n",
        "        elif IDNO == \"6897740b\":\n",
        "         __EM = 2\n",
        "        elif IDNO == \"adac3c13\":\n",
        "         __EM = 3\n",
        "        else:\n",
        "            return False\n",
        "    \n",
        "    def Name(self):\n",
        "        if __EM == 1:\n",
        "            __Name = \"Zaldy Mejia\"\n",
        "    \n",
        "    def Display(self):\n",
        "      pass\n",
        "       # print(\"Employee Name: %s \\n Hours worked this week: %d \\n Monthly )\n",
        "    \n",
        "    \n",
        "    #comment to future me, you need to add gross pay and montly pay\n",
        "    "
      ]
    }
  ]
}