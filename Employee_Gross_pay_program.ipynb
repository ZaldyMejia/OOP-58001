{
  "nbformat": 4,
  "nbformat_minor": 0,
  "metadata": {
    "colab": {
      "name": "Employee Gross pay program.ipynb",
      "provenance": [],
      "authorship_tag": "ABX9TyMWVZZ3Q5JtPhgMW4NUTh4J",
      "include_colab_link": true
    },
    "kernelspec": {
      "name": "python3",
      "display_name": "Python 3"
    },
    "language_info": {
      "name": "python"
    }
  },
  "cells": [
    {
      "cell_type": "markdown",
      "metadata": {
        "id": "view-in-github",
        "colab_type": "text"
      },
      "source": [
        "<a href=\"https://colab.research.google.com/github/ZaldyMejia/OOP-58001/blob/main/Employee_Gross_pay_program.ipynb\" target=\"_parent\"><img src=\"https://colab.research.google.com/assets/colab-badge.svg\" alt=\"Open In Colab\"/></a>"
      ]
    },
    {
      "cell_type": "code",
      "execution_count": 8,
      "metadata": {
        "id": "qQDmhLU72Bhc",
        "outputId": "4f8f1919-fc94-4983-9805-c2171e3a33c0",
        "colab": {
          "base_uri": "https://localhost:8080/"
        }
      },
      "outputs": [
        {
          "name": "stdout",
          "output_type": "stream",
          "text": [
            "Enter your Employee ID number: 1b05221e\n"
          ]
        }
      ],
      "source": [
        "import random\n",
        "\n",
        "class Employee:\n",
        "    __Name = None\n",
        "    __EM = None\n",
        "    \n",
        "    def __init__(self, IDNO):\n",
        "        self.IDNO = IDNO\n",
        "    \n",
        "    def Pay (self): \n",
        "        self.__SP = self.__HW * self.__HP\n",
        "        self.__OT = self.__HP * 1.5 * self.__HOT\n",
        "        self.__GP = self.__OT + self.__SP\n",
        "        return self.__SP\n",
        "    \n",
        "    def database(self):\n",
        "        if self.IDNO == \"ee\":\n",
        "         return 1\n",
        "         Display(self)\n",
        "        elif self.IDNO == \"6897740b\":\n",
        "         self.__EM = 2\n",
        "         return True\n",
        "        elif self.IDNO == \"adac3c13\":\n",
        "         self.__EM = 3\n",
        "         return True\n",
        "        else:\n",
        "            return False\n",
        "    \n",
        "        \n",
        "class ConceptArtist (Employee):\n",
        "    \n",
        "    __HP = 118.32\n",
        "    __HW = 40\n",
        "    __HOT = random.randint(0,6)\n",
        "    __EM = 1\n",
        "    __SP = __HW * __HP\n",
        "    __OT = __HP * 1.5 * __HOT\n",
        "    \n",
        "    def Pay(self):\n",
        "        self.__GP = self.__OT + self.__SP\n",
        "    \n",
        "    def Name(self):\n",
        "        if self.__EM == 1:\n",
        "            self.__Name = \"Zaldy Mejia\"\n",
        "    \n",
        "    def Display(self):\n",
        "       print(\"Employee Name: %s \\nWeekly Hours: %d \\nHours worked overtime: %d \\nGross pay: %.2f\" %(self.__Name, self.__HW, self.__HOT, self.__GP))\n",
        "    \n",
        "ID = str(input(\"Enter your Employee ID number: \"))\n",
        "\n",
        "empO = Employee(ID)\n",
        "caO = ConceptArtist(ID)\n",
        "\n",
        "empO.database()\n",
        "\n",
        "if empO.database() == 1:\n",
        "    caO.Name()\n",
        "    caO.Pay()\n",
        "else:\n",
        "    quit()\n",
        "caO.Display()\n",
        "\n",
        "    "
      ]
    }
  ]
}