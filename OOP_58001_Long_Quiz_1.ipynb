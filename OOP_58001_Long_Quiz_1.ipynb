{
  "nbformat": 4,
  "nbformat_minor": 0,
  "metadata": {
    "colab": {
      "name": "OOP 58001 Long Quiz 1",
      "provenance": [],
      "authorship_tag": "ABX9TyNAujI0dAlgpNfn1UbljN26",
      "include_colab_link": true
    },
    "kernelspec": {
      "name": "python3",
      "display_name": "Python 3"
    },
    "language_info": {
      "name": "python"
    }
  },
  "cells": [
    {
      "cell_type": "markdown",
      "metadata": {
        "id": "view-in-github",
        "colab_type": "text"
      },
      "source": [
        "<a href=\"https://colab.research.google.com/github/ZaldyMejia/OOP-58001/blob/main/OOP_58001_Long_Quiz_1.ipynb\" target=\"_parent\"><img src=\"https://colab.research.google.com/assets/colab-badge.svg\" alt=\"Open In Colab\"/></a>"
      ]
    },
    {
      "cell_type": "markdown",
      "source": [
        "#The 4th program is the answer for the long quiz. The first 3 programs are only for demonstrations of concepts of python"
      ],
      "metadata": {
        "id": "i-GmpCLp2vAY"
      }
    },
    {
      "cell_type": "markdown",
      "source": [
        "Write a Python program that asks the user to enter the radius of a circle and solve its area and perimeter."
      ],
      "metadata": {
        "id": "uZDg4YaMmSr7"
      }
    },
    {
      "cell_type": "code",
      "execution_count": null,
      "metadata": {
        "colab": {
          "base_uri": "https://localhost:8080/"
        },
        "id": "meLcrL-1mHQo",
        "outputId": "8cc4b905-0b7e-4a49-aaa4-8301e6a38868"
      },
      "outputs": [
        {
          "output_type": "stream",
          "name": "stdout",
          "text": [
            "Enter the radius of the circle (in meters): 8\n",
            "The Area is 201.06 square meters and the perimeter/circumference is 50.27 meters\n"
          ]
        }
      ],
      "source": [
        "print(\"Enter the radius of the circle (in meters):\", end = ' ')\n",
        "r = float(input())\n",
        "area = 3.1416*r**2\n",
        "perimeter = 2*3.1416*r\n",
        "Results = 'The Area is %.2f square meters and the perimeter/circumference is %.2f meters' %(area,perimeter)\n",
        "print(Results)"
      ]
    },
    {
      "cell_type": "markdown",
      "source": [
        "Create a class name Circle allowing you to build a circle with radius and pi attributes."
      ],
      "metadata": {
        "id": "0wZgnHsPmSOL"
      }
    },
    {
      "cell_type": "code",
      "source": [
        "class circle():\n",
        "    radius = 10 #these two are called class attributes \n",
        "    pi = 3.1416\n",
        "    \n",
        "    def __init__(self, radius, pi):\n",
        "     self.radius = radius #these two are instance attributes \n",
        "     self.pi = 3.14\n",
        "    \n",
        "print(circle.radius)\n",
        "print(circle.pi)\n",
        "\n",
        "object1 = circle(2, {})\n",
        "print(object1.radius)\n",
        "print(object1.pi)"
      ],
      "metadata": {
        "colab": {
          "base_uri": "https://localhost:8080/"
        },
        "id": "EdEvM6mPpEUa",
        "outputId": "f1320816-df89-4325-b08a-f6683d33885e"
      },
      "execution_count": null,
      "outputs": [
        {
          "output_type": "stream",
          "name": "stdout",
          "text": [
            "10\n",
            "3.1416\n",
            "2\n",
            "3.14\n"
          ]
        }
      ]
    },
    {
      "cell_type": "markdown",
      "source": [
        "Create a method Display() the perimeter and area using an instantiation of a class."
      ],
      "metadata": {
        "id": "mXKHPlaPwaw6"
      }
    },
    {
      "cell_type": "code",
      "source": [
        "class circle():\n",
        "    def __init__(self, area, perimeter):\n",
        "     self.perimeter = perimeter\n",
        "     self.area = area\n",
        "     \n",
        "    def display(self):\n",
        "        print(\"This circle has an area of\",self.area)\n",
        "        print(\"This circle has a circumference of\",self.perimeter)\n",
        "    \n",
        "circle1 = circle(201.6, 50.27)\n",
        "circle1.display()\n",
        "\n",
        "#assuming that the circumference and area has been solved and the question only requires a diplay() method in order to print out the values."
      ],
      "metadata": {
        "colab": {
          "base_uri": "https://localhost:8080/"
        },
        "id": "RZrh9lkbweVf",
        "outputId": "56f75534-217f-44d7-b6ec-70997f220d2b"
      },
      "execution_count": null,
      "outputs": [
        {
          "output_type": "stream",
          "name": "stdout",
          "text": [
            "This circle has an area of 201.6\n",
            "This circle has a circumference of 50.27\n"
          ]
        }
      ]
    },
    {
      "cell_type": "markdown",
      "source": [
        "Create a Perimeter() method to calculate the perimeter of the circle and an Area() method to calculate the area of ​​the circle."
      ],
      "metadata": {
        "id": "uQn5aD3wCNn2"
      }
    },
    {
      "cell_type": "code",
      "source": [
        "class circle():\n",
        "    def __init__(self, radius, pi):\n",
        "     self.radius = radius \n",
        "     self.pi = 3.1416\n",
        "     \n",
        "    def Area(self):\n",
        "        return(self.pi*self.radius**2)\n",
        "         \n",
        "    def circumference(self):\n",
        "        return(2*self.pi*self.radius)\n",
        "     \n",
        "    def display(self):\n",
        "        print(\"This circle has an area of %.2f square meters\"% (self.Area()))\n",
        "        print(\"This circle has a circumference of %.2f meters\"% (self.circumference()))\n",
        "\n",
        "print(\"Enter the radius of the circle (in meters):\", end = ' ')\n",
        "circle1 = circle(float(input()), {})\n",
        "circle1.display()"
      ],
      "metadata": {
        "colab": {
          "base_uri": "https://localhost:8080/"
        },
        "id": "GJ4lUjiKCOZ4",
        "outputId": "69c4547e-8d1f-4342-f7f1-b885441f8a40"
      },
      "execution_count": 1,
      "outputs": [
        {
          "output_type": "stream",
          "name": "stdout",
          "text": [
            "Enter the radius of the circle (in meters): 8.0\n",
            "This circle has an area of 201.06 square meters\n",
            "This circle has a circumference of 50.27 meters\n"
          ]
        }
      ]
    }
  ]
}