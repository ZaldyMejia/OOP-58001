{
  "nbformat": 4,
  "nbformat_minor": 0,
  "metadata": {
    "colab": {
      "name": "OOP in Python",
      "provenance": [],
      "authorship_tag": "ABX9TyNBaaKhGRZEpB2gojzP2abe",
      "include_colab_link": true
    },
    "kernelspec": {
      "name": "python3",
      "display_name": "Python 3"
    },
    "language_info": {
      "name": "python"
    }
  },
  "cells": [
    {
      "cell_type": "markdown",
      "metadata": {
        "id": "view-in-github",
        "colab_type": "text"
      },
      "source": [
        "<a href=\"https://colab.research.google.com/github/ZaldyMejia/OOP-58001/blob/main/OOP_in_Python.ipynb\" target=\"_parent\"><img src=\"https://colab.research.google.com/assets/colab-badge.svg\" alt=\"Open In Colab\"/></a>"
      ]
    },
    {
      "cell_type": "markdown",
      "source": [
        "Create a Class"
      ],
      "metadata": {
        "id": "vC9Z7KTvWHQ5"
      }
    },
    {
      "cell_type": "code",
      "execution_count": 2,
      "metadata": {
        "id": "ReRbMzsTVzA4"
      },
      "outputs": [],
      "source": [
        "class Theclass:\n",
        "  pass"
      ]
    },
    {
      "cell_type": "code",
      "source": [
        "class Theclass:\n",
        "  x = 50"
      ],
      "metadata": {
        "id": "UjNq35q2WYSB"
      },
      "execution_count": 3,
      "outputs": []
    },
    {
      "cell_type": "code",
      "source": [
        "class Car():                           \n",
        "  def __init__(self,name,color):\n",
        "    self.name = name                    \n",
        "    self.color = color\n",
        "\n",
        "  def description(self):\n",
        "    return self.name, self.color\n",
        "  \n",
        "  def display(self):\n",
        "    print(\"The name and color of the car\",self.description())\n",
        "\n",
        "obj1 = Car(\"Toyota\",\"white\")            \n",
        "obj1.display()\n",
        "obj1.description()"
      ],
      "metadata": {
        "colab": {
          "base_uri": "https://localhost:8080/"
        },
        "id": "eUXW7fMXWhSx",
        "outputId": "3ab31e6c-bbd4-4c5b-d564-5bd3836b3028"
      },
      "execution_count": 43,
      "outputs": [
        {
          "output_type": "stream",
          "name": "stdout",
          "text": [
            "The name and color of the car ('Toyota', 'white')\n"
          ]
        },
        {
          "output_type": "execute_result",
          "data": {
            "text/plain": [
              "('Toyota', 'white')"
            ]
          },
          "metadata": {},
          "execution_count": 43
        }
      ]
    },
    {
      "cell_type": "markdown",
      "source": [
        "Modify an object property"
      ],
      "metadata": {
        "id": "jRAADTsmXP1N"
      }
    },
    {
      "cell_type": "code",
      "source": [
        "obj1.name=\"Alderney\"\n",
        "print(obj1.name)"
      ],
      "metadata": {
        "colab": {
          "base_uri": "https://localhost:8080/"
        },
        "id": "M0DbpNnDXSSB",
        "outputId": "923ea77a-12f9-4f27-d6ba-30ff42f29ec3"
      },
      "execution_count": 6,
      "outputs": [
        {
          "output_type": "stream",
          "name": "stdout",
          "text": [
            "Alderney\n"
          ]
        }
      ]
    },
    {
      "cell_type": "code",
      "source": [
        "obj1.display()"
      ],
      "metadata": {
        "colab": {
          "base_uri": "https://localhost:8080/"
        },
        "id": "7KTL4EmwXrGu",
        "outputId": "e75858de-960b-4f2f-b6e1-f3f97184be26"
      },
      "execution_count": 7,
      "outputs": [
        {
          "output_type": "stream",
          "name": "stdout",
          "text": [
            "The name and color of the car ('Alderney', 'white')\n"
          ]
        }
      ]
    },
    {
      "cell_type": "code",
      "source": [
        "del obj1.color\n",
        "obj1.display()"
      ],
      "metadata": {
        "colab": {
          "base_uri": "https://localhost:8080/",
          "height": 183
        },
        "id": "0fQ4bPrvXwDS",
        "outputId": "9c24a757-83c5-4598-d438-3c301d918763"
      },
      "execution_count": 10,
      "outputs": [
        {
          "output_type": "error",
          "ename": "AttributeError",
          "evalue": "ignored",
          "traceback": [
            "\u001b[0;31m---------------------------------------------------------------------------\u001b[0m",
            "\u001b[0;31mAttributeError\u001b[0m                            Traceback (most recent call last)",
            "\u001b[0;32m<ipython-input-10-9189caea74dd>\u001b[0m in \u001b[0;36m<module>\u001b[0;34m()\u001b[0m\n\u001b[0;32m----> 1\u001b[0;31m \u001b[0;32mdel\u001b[0m \u001b[0mobj1\u001b[0m\u001b[0;34m.\u001b[0m\u001b[0mcolor\u001b[0m\u001b[0;34m\u001b[0m\u001b[0;34m\u001b[0m\u001b[0m\n\u001b[0m\u001b[1;32m      2\u001b[0m \u001b[0mobj1\u001b[0m\u001b[0;34m.\u001b[0m\u001b[0mdisplay\u001b[0m\u001b[0;34m(\u001b[0m\u001b[0;34m)\u001b[0m\u001b[0;34m\u001b[0m\u001b[0;34m\u001b[0m\u001b[0m\n",
            "\u001b[0;31mAttributeError\u001b[0m: color"
          ]
        }
      ]
    },
    {
      "cell_type": "code",
      "source": [
        "obj2 = Car(\"BMW\",\"red\")\n",
        "obj2.display()"
      ],
      "metadata": {
        "colab": {
          "base_uri": "https://localhost:8080/"
        },
        "id": "Ll8fsZVuYMXU",
        "outputId": "e0f091a8-fd61-4db3-9417-e7a5733e8101"
      },
      "execution_count": 11,
      "outputs": [
        {
          "output_type": "stream",
          "name": "stdout",
          "text": [
            "The name and color of the car ('BMW', 'red')\n"
          ]
        }
      ]
    },
    {
      "cell_type": "markdown",
      "source": [
        "Application 1 - Write a python program to compute the area and perimeter of a rectangle. Use Rectangle as class name, and length and width as attributes"
      ],
      "metadata": {
        "id": "5XBvcEyiYTLe"
      }
    },
    {
      "cell_type": "code",
      "source": [
        "class Rectangle():\n",
        "  def __init__(self,length,width):\n",
        "    self.length = length\n",
        "    self.width = width\n",
        "\n",
        "  def Area(self):\n",
        "    return self.length*self.width\n",
        "\n",
        "  def Perimeter(self):\n",
        "    return 2*(self.length+self.width)\n",
        "\n",
        "  def display(self):\n",
        "    print(\"The area of rectangle is\",self.Area())\n",
        "    print(\"The perimeter of rectangle is\",self.Perimeter())\n",
        "\n",
        "pol = Rectangle(7,4.5)\n",
        "pol.display()"
      ],
      "metadata": {
        "colab": {
          "base_uri": "https://localhost:8080/"
        },
        "id": "PaK--Ce7YR0I",
        "outputId": "0102a016-6f61-4d6b-e665-e77a440c24a4"
      },
      "execution_count": 13,
      "outputs": [
        {
          "output_type": "stream",
          "name": "stdout",
          "text": [
            "The area of rectangle is 31.5\n",
            "The perimeter of rectangle is 23.0\n"
          ]
        }
      ]
    },
    {
      "cell_type": "markdown",
      "source": [
        "Application 2 - Write a python program to display a class name OOP_58001 with your student no. and fullname (Surname, First Name) as attributes"
      ],
      "metadata": {
        "id": "e8flKhcmYrmh"
      }
    },
    {
      "cell_type": "code",
      "source": [
        "class OOP_58001:\n",
        "  def __init__(self, surname, firstname, studentno, coursesub):\n",
        "    self.surname = surname\n",
        "    self.firstname = firstname\n",
        "    self.studentno = studentno\n",
        "    self.coursesub = coursesub\n",
        "\n",
        "  def Student(self):\n",
        "    print(\"I am\", self.surname,self.firstname, \"and my student number is\", self.studentno)\n",
        "\n",
        "  def course(self):\n",
        "    print(\"and I am learning\", self.coursesub)\n",
        "\n",
        "p1 = OOP_58001(\"Mejia,\", \"Zaldy\", 202111103, {})\n",
        "p2 = OOP_58001({}, {}, {}, \"Python\")\n",
        "p1.Student()\n",
        "p2.course()"
      ],
      "metadata": {
        "colab": {
          "base_uri": "https://localhost:8080/"
        },
        "id": "RtCkGpztYsWK",
        "outputId": "6c210b5e-3483-46ff-d5f2-b0210a1b27e2"
      },
      "execution_count": 42,
      "outputs": [
        {
          "output_type": "stream",
          "name": "stdout",
          "text": [
            "I am Mejia, Zaldy and my student number is 202111103\n",
            "and I am learning Python\n"
          ]
        }
      ]
    },
    {
      "cell_type": "code",
      "source": [
        ""
      ],
      "metadata": {
        "id": "x3dS_eCHZD6t"
      },
      "execution_count": null,
      "outputs": []
    }
  ]
}