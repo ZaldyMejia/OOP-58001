{
  "nbformat": 4,
  "nbformat_minor": 0,
  "metadata": {
    "colab": {
      "name": "Answer to Prelim exam.ipynb",
      "provenance": [],
      "authorship_tag": "ABX9TyMjDOiCUD4YKA9QMhtdYvEs",
      "include_colab_link": true
    },
    "kernelspec": {
      "name": "python3",
      "display_name": "Python 3"
    },
    "language_info": {
      "name": "python"
    }
  },
  "cells": [
    {
      "cell_type": "markdown",
      "metadata": {
        "id": "view-in-github",
        "colab_type": "text"
      },
      "source": [
        "<a href=\"https://colab.research.google.com/github/ZaldyMejia/OOP-58001/blob/main/Answer_to_Prelim_exam.ipynb\" target=\"_parent\"><img src=\"https://colab.research.google.com/assets/colab-badge.svg\" alt=\"Open In Colab\"/></a>"
      ]
    },
    {
      "cell_type": "code",
      "execution_count": 21,
      "metadata": {
        "colab": {
          "base_uri": "https://localhost:8080/"
        },
        "id": "NtMWX6P5LAax",
        "outputId": "37fed395-2436-47c5-9fa3-c6adc558a7e0"
      },
      "outputs": [
        {
          "output_type": "stream",
          "name": "stdout",
          "text": [
            "My student information:  Mejia, Zaldy 202011103 18 years old Adamson University Computer Engineering\n"
          ]
        }
      ],
      "source": [
        "class Student():\n",
        "  def __init__ (self, Name, Student_No, Age, School, course):\n",
        "    self.Name = Name\n",
        "    self.student_No = Student_No\n",
        "    self.age = Age\n",
        "    self.school = School\n",
        "    self.course = course\n",
        "\n",
        "  def Self(self):\n",
        "    return self.Name + self.student_No + self.age + self.school +  self.course\n",
        "\n",
        "  def display(self):\n",
        "    print(\"My student information: \" , self.Self())\n",
        "\n",
        "Myself = Student(\"Mejia, Zaldy \", \"202011103\" ,\" 18 years old\", \" Adamson University\", \" Computer Engineering\")\n",
        "Myself.display()\n",
        "\n",
        "#if we were to put the data printed into sentence form (Ex: My name is zaldy mejia .....), it would require to create many methods for each attributes but the question asked for only one method which is \"Self\" "
      ]
    }
  ]
}