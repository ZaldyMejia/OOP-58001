{
  "nbformat": 4,
  "nbformat_minor": 0,
  "metadata": {
    "colab": {
      "name": "Fundamentals of Python.ipynb",
      "provenance": [],
      "authorship_tag": "ABX9TyNIUBt7Jx0EioNo8g0jbzbS",
      "include_colab_link": true
    },
    "kernelspec": {
      "name": "python3",
      "display_name": "Python 3"
    },
    "language_info": {
      "name": "python"
    }
  },
  "cells": [
    {
      "cell_type": "markdown",
      "metadata": {
        "id": "view-in-github",
        "colab_type": "text"
      },
      "source": [
        "<a href=\"https://colab.research.google.com/github/ZaldyMejia/OOP-58001/blob/main/Fundamentals_of_Python.ipynb\" target=\"_parent\"><img src=\"https://colab.research.google.com/assets/colab-badge.svg\" alt=\"Open In Colab\"/></a>"
      ]
    },
    {
      "cell_type": "markdown",
      "source": [
        "#Python Variables"
      ],
      "metadata": {
        "id": "01sh-ZcYkdZk"
      }
    },
    {
      "cell_type": "code",
      "source": [
        "x = float(1)\n",
        "\n",
        "a,b,c = \"Sally\", \"John\", \"Ana\"\n",
        "a,b,c = 0, -1, 2\n",
        "\n",
        "print (\"This is a sample\")\n",
        "print (a)\n",
        "print (b)\n",
        "print (c)"
      ],
      "metadata": {
        "colab": {
          "base_uri": "https://localhost:8080/"
        },
        "id": "wU2AEbvYki2Z",
        "outputId": "26955032-3453-4503-e64d-afee1d5351b9"
      },
      "execution_count": null,
      "outputs": [
        {
          "output_type": "stream",
          "name": "stdout",
          "text": [
            "This is a sample\n",
            "0\n",
            "-1\n",
            "2\n"
          ]
        }
      ]
    },
    {
      "cell_type": "markdown",
      "source": [
        "Casting"
      ],
      "metadata": {
        "id": "ahNVD_aO7SGM"
      }
    },
    {
      "cell_type": "code",
      "source": [
        "print(x)"
      ],
      "metadata": {
        "colab": {
          "base_uri": "https://localhost:8080/"
        },
        "id": "brrdwzj_7Tky",
        "outputId": "179d61df-7733-426c-d4a3-12b73b3618f7"
      },
      "execution_count": null,
      "outputs": [
        {
          "output_type": "stream",
          "name": "stdout",
          "text": [
            "1.0\n"
          ]
        }
      ]
    },
    {
      "cell_type": "markdown",
      "source": [
        "Type() Function"
      ],
      "metadata": {
        "id": "l_rFzeaG7ZML"
      }
    },
    {
      "cell_type": "code",
      "source": [
        "y = \"Johnny\"\n",
        "\n",
        "print (type(y))\n",
        "print (type(x))"
      ],
      "metadata": {
        "colab": {
          "base_uri": "https://localhost:8080/"
        },
        "id": "NH6nDwKV7b9d",
        "outputId": "a6fe80ef-a3cf-4692-bd2f-a8c39984be42"
      },
      "execution_count": null,
      "outputs": [
        {
          "output_type": "stream",
          "name": "stdout",
          "text": [
            "<class 'str'>\n",
            "<class 'float'>\n"
          ]
        }
      ]
    },
    {
      "cell_type": "markdown",
      "source": [
        "Double Quotes and Single Quotes"
      ],
      "metadata": {
        "id": "vSG7AE9P7yNY"
      }
    },
    {
      "cell_type": "code",
      "source": [
        "h = 'Zaldy'\n",
        "b = \"Zaldy\"\n",
        "v = 1\n",
        "V = 2\n",
        "\n",
        "print(h)\n",
        "print(b)\n",
        "print(v)\n",
        "print(V)\n",
        "print(type(h))\n"
      ],
      "metadata": {
        "colab": {
          "base_uri": "https://localhost:8080/"
        },
        "id": "JLoQWk0e7039",
        "outputId": "04e439b8-b06d-4ebb-c627-1c0323f4cd95"
      },
      "execution_count": 3,
      "outputs": [
        {
          "output_type": "stream",
          "name": "stdout",
          "text": [
            "Zaldy\n",
            "Zaldy\n",
            "1\n",
            "2\n",
            "<class 'str'>\n"
          ]
        }
      ]
    },
    {
      "cell_type": "markdown",
      "source": [
        "Multiple Variables"
      ],
      "metadata": {
        "id": "baE5fWzA8bQv"
      }
    },
    {
      "cell_type": "code",
      "source": [
        "x,y,z = \"One\", \"Two\", \"Three\"\n",
        "\n",
        "print(x)\n",
        "print(y)\n",
        "print(z)\n"
      ],
      "metadata": {
        "colab": {
          "base_uri": "https://localhost:8080/"
        },
        "id": "Jgze4RSq8cDI",
        "outputId": "dbce982d-71c2-470a-821d-874bfd245f56"
      },
      "execution_count": null,
      "outputs": [
        {
          "output_type": "stream",
          "name": "stdout",
          "text": [
            "One\n",
            "Two\n",
            "Three\n"
          ]
        }
      ]
    },
    {
      "cell_type": "markdown",
      "source": [
        "One value to multiple Variables"
      ],
      "metadata": {
        "id": "yDXNqqDD9KcE"
      }
    },
    {
      "cell_type": "code",
      "source": [
        "x = y = z = \"Stella\"\n",
        "print (x,y,z)\n",
        "print(x)\n",
        "print(y)\n",
        "print(z)"
      ],
      "metadata": {
        "colab": {
          "base_uri": "https://localhost:8080/"
        },
        "id": "CjSFIvZT9M0e",
        "outputId": "14a5bced-062c-4193-b961-fee4078d0ecd"
      },
      "execution_count": null,
      "outputs": [
        {
          "output_type": "stream",
          "name": "stdout",
          "text": [
            "Stella Stella Stella\n",
            "Stella\n",
            "Stella\n",
            "Stella\n"
          ]
        }
      ]
    },
    {
      "cell_type": "markdown",
      "source": [
        "Output Variables"
      ],
      "metadata": {
        "id": "SXOfAeHJ9X0b"
      }
    },
    {
      "cell_type": "code",
      "source": [
        "x = \"Enjoying, \"\n",
        "y = \"Python is\"\n",
        "\n",
        "print (x+y)"
      ],
      "metadata": {
        "colab": {
          "base_uri": "https://localhost:8080/"
        },
        "id": "A7xZ9euL9Zyb",
        "outputId": "bcaf20d7-0424-4a42-eb94-fcdae7b9813c"
      },
      "execution_count": null,
      "outputs": [
        {
          "output_type": "stream",
          "name": "stdout",
          "text": [
            "Enjoying, Python is\n"
          ]
        }
      ]
    },
    {
      "cell_type": "markdown",
      "source": [
        "Arithmetic Operations"
      ],
      "metadata": {
        "id": "L60oPegF923F"
      }
    },
    {
      "cell_type": "code",
      "source": [
        "f = 1\n",
        "g = 2\n",
        "i = 6\n",
        "\n",
        "print(f+g)\n",
        "print(f-g)\n",
        "print(f*g)\n",
        "print(int(i/g))\n",
        "print(3/g)\n",
        "print(3%g)\n",
        "print(3//g)\n",
        "print(3**2)"
      ],
      "metadata": {
        "colab": {
          "base_uri": "https://localhost:8080/"
        },
        "id": "D9KKjzn696Np",
        "outputId": "a971dfe3-104e-46e8-db28-7577fa582681"
      },
      "execution_count": null,
      "outputs": [
        {
          "output_type": "stream",
          "name": "stdout",
          "text": [
            "3\n",
            "-1\n",
            "2\n",
            "3\n",
            "1.5\n",
            "1\n",
            "1\n"
          ]
        }
      ]
    },
    {
      "cell_type": "markdown",
      "source": [
        "Boolean Operators"
      ],
      "metadata": {
        "id": "eyFAiSJQ-cDl"
      }
    },
    {
      "cell_type": "code",
      "source": [
        "k = 2\n",
        "#i = 6\n",
        "k+=2\n",
        "print(k)\n",
        "\n",
        "print(i>>1)\n",
        "print(i<<1)"
      ],
      "metadata": {
        "colab": {
          "base_uri": "https://localhost:8080/"
        },
        "id": "_AhY6FNT-d6L",
        "outputId": "2664e722-8b8c-4099-a800-1942bbd3465d"
      },
      "execution_count": null,
      "outputs": [
        {
          "output_type": "stream",
          "name": "stdout",
          "text": [
            "4\n",
            "3\n",
            "12\n"
          ]
        }
      ]
    },
    {
      "cell_type": "markdown",
      "source": [
        "Assignment Operators"
      ],
      "metadata": {
        "id": "3Nl4qnLwCXoN"
      }
    },
    {
      "cell_type": "code",
      "source": [
        "s = 2\n",
        "\n",
        "s*=5\n",
        "\n",
        "print(s)"
      ],
      "metadata": {
        "colab": {
          "base_uri": "https://localhost:8080/"
        },
        "id": "aD6uFWa0CZby",
        "outputId": "611a2afa-ad16-4f6d-fa89-ca4ea9d6c1bf"
      },
      "execution_count": null,
      "outputs": [
        {
          "output_type": "stream",
          "name": "stdout",
          "text": [
            "10\n"
          ]
        }
      ]
    },
    {
      "cell_type": "markdown",
      "source": [
        "Relational Operators"
      ],
      "metadata": {
        "id": "CShJiQahCh_3"
      }
    },
    {
      "cell_type": "code",
      "source": [
        "print(v>s)\n",
        "\n",
        "print (v==s)"
      ],
      "metadata": {
        "colab": {
          "base_uri": "https://localhost:8080/"
        },
        "id": "XZ463CbpCjn_",
        "outputId": "5b45f671-9afd-427d-eae6-727fe557810c"
      },
      "execution_count": null,
      "outputs": [
        {
          "output_type": "stream",
          "name": "stdout",
          "text": [
            "False\n",
            "False\n"
          ]
        }
      ]
    },
    {
      "cell_type": "markdown",
      "source": [
        "Logical Operators"
      ],
      "metadata": {
        "id": "6Vd0BmJKCs3l"
      }
    },
    {
      "cell_type": "code",
      "source": [
        "print(v<s and s==s)\n",
        "print(v<s and s==v)"
      ],
      "metadata": {
        "colab": {
          "base_uri": "https://localhost:8080/"
        },
        "id": "clJaQGZbCujT",
        "outputId": "799353dd-a6b0-4b29-854c-c710592dd971"
      },
      "execution_count": null,
      "outputs": [
        {
          "output_type": "stream",
          "name": "stdout",
          "text": [
            "True\n",
            "False\n"
          ]
        }
      ]
    },
    {
      "cell_type": "markdown",
      "source": [
        "Identity Operators"
      ],
      "metadata": {
        "id": "cLUyZLS1DEWY"
      }
    },
    {
      "cell_type": "code",
      "source": [
        "print(v is s)\n",
        "print(v is v)"
      ],
      "metadata": {
        "colab": {
          "base_uri": "https://localhost:8080/"
        },
        "id": "ZfaTyfr-DGOd",
        "outputId": "ff9e8246-2e8e-4fb6-8502-105d9de2acde"
      },
      "execution_count": null,
      "outputs": [
        {
          "output_type": "stream",
          "name": "stdout",
          "text": [
            "False\n",
            "True\n"
          ]
        }
      ]
    }
  ]
}