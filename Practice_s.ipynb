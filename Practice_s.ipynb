{
  "nbformat": 4,
  "nbformat_minor": 0,
  "metadata": {
    "colab": {
      "name": "Practice shit.ipynb",
      "provenance": [],
      "authorship_tag": "ABX9TyMih04Fep0sKtuBa36HCkQZ",
      "include_colab_link": true
    },
    "kernelspec": {
      "name": "python3",
      "display_name": "Python 3"
    },
    "language_info": {
      "name": "python"
    }
  },
  "cells": [
    {
      "cell_type": "markdown",
      "metadata": {
        "id": "view-in-github",
        "colab_type": "text"
      },
      "source": [
        "<a href=\"https://colab.research.google.com/github/ZaldyMejia/OOP-58001/blob/main/Practice_s.ipynb\" target=\"_parent\"><img src=\"https://colab.research.google.com/assets/colab-badge.svg\" alt=\"Open In Colab\"/></a>"
      ]
    },
    {
      "cell_type": "markdown",
      "source": [
        "Polymorphism with functions and objects"
      ],
      "metadata": {
        "id": "jYqi0dwG1R3s"
      }
    },
    {
      "cell_type": "code",
      "execution_count": 1,
      "metadata": {
        "colab": {
          "base_uri": "https://localhost:8080/"
        },
        "id": "CZAlFdzR1Pk3",
        "outputId": "0419ae8b-57cb-44a6-ffd3-f88cd5a6ca4b"
      },
      "outputs": [
        {
          "output_type": "stream",
          "name": "stdout",
          "text": [
            "Vegetable\n",
            "Red\n",
            "Fruit\n",
            "Red\n"
          ]
        }
      ],
      "source": [
        "class Tomato(): \n",
        "     def type(self): \n",
        "       print(\"Vegetable\") \n",
        "     def color(self):\n",
        "       print(\"Red\") \n",
        "class Apple(): \n",
        "     def type(self): \n",
        "       print(\"Fruit\") \n",
        "     def color(self): \n",
        "       print(\"Red\") \n",
        "      \n",
        "def func(obj): \n",
        "       obj.type() \n",
        "       obj.color()\n",
        "        \n",
        "obj_tomato = Tomato() \n",
        "obj_apple = Apple() \n",
        "func(obj_tomato) \n",
        "func(obj_apple)"
      ]
    },
    {
      "cell_type": "code",
      "source": [
        "class India():\n",
        "     def capital(self):\n",
        "       print(\"New Delhi\")\n",
        " \n",
        "     def language(self):\n",
        "       print(\"Hindi and English\")\n",
        " \n",
        "class USA():\n",
        "     def capital(self):\n",
        "       print(\"Washington, D.C.\")\n",
        " \n",
        "     def language(self):\n",
        "       print(\"English\")\n",
        " \n",
        "dog = [ India() , USA()]\n",
        "\n",
        "for d in dog:\n",
        "  d.capital()\n",
        "  d.language()\n",
        "  "
      ],
      "metadata": {
        "colab": {
          "base_uri": "https://localhost:8080/"
        },
        "id": "82WpxBwz2cz1",
        "outputId": "7922c1fa-528b-431b-84a4-4c6ccef3d8b0"
      },
      "execution_count": 21,
      "outputs": [
        {
          "output_type": "stream",
          "name": "stdout",
          "text": [
            "New Delhi\n",
            "Hindi and English\n",
            "Washington, D.C.\n",
            "English\n"
          ]
        }
      ]
    }
  ]
}