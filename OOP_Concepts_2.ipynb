{
  "nbformat": 4,
  "nbformat_minor": 0,
  "metadata": {
    "colab": {
      "name": "OOP Concepts_2.ipynb",
      "provenance": [],
      "authorship_tag": "ABX9TyOxAoVH0FK8QES/SWB7wGF3",
      "include_colab_link": true
    },
    "kernelspec": {
      "name": "python3",
      "display_name": "Python 3"
    },
    "language_info": {
      "name": "python"
    }
  },
  "cells": [
    {
      "cell_type": "markdown",
      "metadata": {
        "id": "view-in-github",
        "colab_type": "text"
      },
      "source": [
        "<a href=\"https://colab.research.google.com/github/ZaldyMejia/OOP-58001/blob/main/OOP_Concepts_2.ipynb\" target=\"_parent\"><img src=\"https://colab.research.google.com/assets/colab-badge.svg\" alt=\"Open In Colab\"/></a>"
      ]
    },
    {
      "cell_type": "markdown",
      "source": [
        "Classses with multiple objects"
      ],
      "metadata": {
        "id": "zEEjNNcyvy3j"
      }
    },
    {
      "cell_type": "code",
      "execution_count": 5,
      "metadata": {
        "colab": {
          "base_uri": "https://localhost:8080/"
        },
        "id": "Nre6SZH_uNbK",
        "outputId": "f68b3864-e35c-43e1-d36c-10524b4996dd"
      },
      "outputs": [
        {
          "output_type": "stream",
          "name": "stdout",
          "text": [
            "Griffon Vulture flies above the clouds\n",
            "Common Crane flies above the clouds\n",
            "Emu flies above the clouds\n"
          ]
        }
      ],
      "source": [
        "class Birds:\n",
        "  def __init__(self, birdname):\n",
        "    self.birdname = birdname\n",
        "\n",
        "  def flyingbird (self):\n",
        "    print(f\"{self.birdname} flies above the clouds\")\n",
        "\n",
        "  def non_flying_birds (self):\n",
        "    print(f\"{self.birdname} is the national bird of the Philippines\")\n",
        "\n",
        "Vulture = Birds(\"Griffon Vulture\")\n",
        "Crane = Birds(\"Common Crane\")\n",
        "Emu = Birds(\"Emu\")\n",
        "\n",
        "Vulture.flyingbird()\n",
        "Crane.flyingbird()\n",
        "Emu.flyingbird()\n"
      ]
    },
    {
      "cell_type": "markdown",
      "source": [
        "Encapsulation with private attributes"
      ],
      "metadata": {
        "id": "4uocIjjfyVNI"
      }
    },
    {
      "cell_type": "code",
      "source": [
        "class foo:\n",
        "  def __init__(self, a, b):\n",
        "    self.a = a\n",
        "    self.b = b\n",
        "\n",
        "  def add (self):\n",
        "    print(self.a + self.b)\n",
        "\n",
        "foo_object = foo(3,4)\n",
        "foo_object.add()\n",
        "\n",
        "foo_object.a = 5\n",
        "foo_object.b = 6\n",
        "foo_object.add()"
      ],
      "metadata": {
        "colab": {
          "base_uri": "https://localhost:8080/"
        },
        "id": "l4--Zvs-ynu4",
        "outputId": "286eb0f5-f7b3-43cf-985a-f494158d5fd2"
      },
      "execution_count": 4,
      "outputs": [
        {
          "output_type": "stream",
          "name": "stdout",
          "text": [
            "7\n",
            "11\n"
          ]
        }
      ]
    },
    {
      "cell_type": "markdown",
      "source": [
        "Encapsulation"
      ],
      "metadata": {
        "id": "z66ouwbf23MF"
      }
    },
    {
      "cell_type": "code",
      "source": [
        "class Counter:\n",
        "    def __init__(self):\n",
        "        self.current = 0\n",
        "\n",
        "    def increment(self):\n",
        "        self.current += 1\n",
        "\n",
        "    def value(self):\n",
        "        return self.current\n",
        "\n",
        "    def reset(self):\n",
        "        self.current = 0\n",
        "\n",
        "obj1 = Counter()\n",
        "obj1.increment()\n",
        "obj1.increment()\n",
        "obj1.increment()\n",
        "obj1.increment()\n",
        "obj1.increment()\n",
        "obj1.increment()\n",
        "obj1.increment()\n",
        "print(obj1.value())\n",
        "obj1.reset()\n",
        "obj1.increment()\n",
        "obj1.value()"
      ],
      "metadata": {
        "colab": {
          "base_uri": "https://localhost:8080/"
        },
        "id": "UrtjeH3v2546",
        "outputId": "b8f1056f-2c0f-4d68-d040-869a9194872c"
      },
      "execution_count": 3,
      "outputs": [
        {
          "output_type": "stream",
          "name": "stdout",
          "text": [
            "7\n"
          ]
        },
        {
          "output_type": "execute_result",
          "data": {
            "text/plain": [
              "1"
            ]
          },
          "metadata": {},
          "execution_count": 3
        }
      ]
    },
    {
      "cell_type": "markdown",
      "source": [
        "Inheritance"
      ],
      "metadata": {
        "id": "W7rVb1w97aAN"
      }
    },
    {
      "cell_type": "code",
      "source": [
        "class Person:\n",
        "  def __init__(self, fname, sname):\n",
        "    self.fname = fname\n",
        "    self.sname = sname\n",
        "  def printname(self):\n",
        "    print(self.fname , self.sname)\n",
        "\n",
        "x = Person(\"Zaldy\", \"Mejia\")\n",
        "x.printname()\n",
        "\n",
        "class Student(Person):\n",
        "  pass\n",
        "\n",
        "y = Student(\"Zaldy\", \"Mejia\")\n",
        "y.printname()"
      ],
      "metadata": {
        "colab": {
          "base_uri": "https://localhost:8080/"
        },
        "id": "a6yQ1KJJ7Zil",
        "outputId": "271e4e00-84d7-499f-ef73-93fbd1e22dd4"
      },
      "execution_count": 1,
      "outputs": [
        {
          "output_type": "stream",
          "name": "stdout",
          "text": [
            "Zaldy Mejia\n",
            "Zaldy Mejia\n"
          ]
        }
      ]
    },
    {
      "cell_type": "markdown",
      "source": [
        "Polymorphism"
      ],
      "metadata": {
        "id": "P8klGYGr-vn6"
      }
    },
    {
      "cell_type": "code",
      "source": [
        "class RegularPolygon:\n",
        "  def __init__(self, side):\n",
        "    self.side = side\n",
        "\n",
        "class Square(RegularPolygon):\n",
        "  def area (self):\n",
        "    return self.side*self.side\n",
        "\n",
        "class EquilateralTriangle(RegularPolygon):\n",
        "  def area (self):\n",
        "    return self.side*self.side*0.433\n",
        "\n",
        "obj1 = Square(4)\n",
        "obj2 = EquilateralTriangle(3)\n",
        "\n",
        "print(obj1.area())\n",
        "obj2.area()"
      ],
      "metadata": {
        "colab": {
          "base_uri": "https://localhost:8080/"
        },
        "id": "2I-_9gEr-xOa",
        "outputId": "948761e1-c93d-441e-bc7b-c3007d171943"
      },
      "execution_count": 2,
      "outputs": [
        {
          "output_type": "stream",
          "name": "stdout",
          "text": [
            "16\n"
          ]
        },
        {
          "output_type": "execute_result",
          "data": {
            "text/plain": [
              "3.897"
            ]
          },
          "metadata": {},
          "execution_count": 2
        }
      ]
    },
    {
      "cell_type": "markdown",
      "source": [
        "Application 1\n",
        "\n",
        "1. Create a Python program that displays the name of three students (Student 1, Student 2, Student 3) and their term grades\n",
        "\n",
        "2. Create a class name Person and attributes -std1, std2, std3, pre, mid, fin\n",
        "\n",
        "3. Compute the average of each term grade using Grade()method\n",
        "\n",
        "4. Information about student's grade must be hidden from others"
      ],
      "metadata": {
        "id": "_uOhoBddd2jR"
      }
    },
    {
      "cell_type": "code",
      "source": [
        "\n",
        "class person:\n",
        "    def __init__(self, students, pre, mid, fin):\n",
        "        self.students = students\n",
        "        self.pre = pre\n",
        "        self.mid = mid\n",
        "        self.fin = fin\n",
        "     \n",
        "    def grades(self):\n",
        "        return self.pre*0.3 + self.mid*0.3 + self.fin*0.4\n",
        "        \n",
        "    def display(self):\n",
        "        print(\"Student name: %s\" %(self.students))\n",
        "        print(f\"Prelim Grade: {self.pre}\\nMidterm Grade: {self.mid}\\nFinals Grade: {self.fin}\")\n",
        "        print(\"Your average grade for this semester is %0.2f\" % (self.grades()))\n",
        "        \n",
        "class student(person):\n",
        "  pass\n",
        "   \n",
        "Student1 = student(\"Zaldy Mejia\",89,88,92)\n",
        "Student2 = student(\"James Alderney\",84,81,87)\n",
        "Student3 = student(\"Vincent Fabron\",89,93,93)\n",
        "\n",
        "turn = 0\n",
        "\n",
        "while turn == 0:\n",
        "    Student = str(input(\"Enter your student Number: \"))\n",
        "\n",
        "    if Student == \"202111103\":\n",
        "        Student1.display()\n",
        "    elif Student == \"202135909\":\n",
        "        Student2.display()\n",
        "    elif Student == \"202111697\":\n",
        "        Student3.display()\n",
        "    else:\n",
        "        print(\"Invalid Student Number\")\n",
        "    \n",
        "    re = str(input(\"\\nDo you want to exit or restart the program?\\nPress 1 to restart\\nPress any key to terminate\\n:\"))\n",
        "    if re == \"1\":\n",
        "        turn = 0\n",
        "    else:\n",
        "        turn+=1"
      ],
      "metadata": {
        "id": "uDFSIPklekAS",
        "outputId": "315ffac5-1e53-449c-ce8f-7713de470c5b",
        "colab": {
          "base_uri": "https://localhost:8080/"
        }
      },
      "execution_count": 10,
      "outputs": [
        {
          "name": "stdout",
          "output_type": "stream",
          "text": [
            "Enter your student Number: 202111103\n",
            "Student name: Zaldy Mejia\n",
            "Prelim Grade: 89\n",
            "Midterm Grade: 88\n",
            "Finals Grade: 92\n",
            "Your average grade for this semester is 89.90\n",
            "\n",
            "Do you want to exit or restart the program?\n",
            "Press 1 to restart\n",
            "Press any key to terminate\n",
            ":1\n",
            "Enter your student Number: 202135909\n",
            "Student name: James Alderney\n",
            "Prelim Grade: 84\n",
            "Midterm Grade: 81\n",
            "Finals Grade: 87\n",
            "Your average grade for this semester is 84.30\n",
            "\n",
            "Do you want to exit or restart the program?\n",
            "Press 1 to restart\n",
            "Press any key to terminate\n",
            ":1\n",
            "Enter your student Number: 202111697\n",
            "Student name: Vincent Fabron\n",
            "Prelim Grade: 89\n",
            "Midterm Grade: 93\n",
            "Finals Grade: 93\n",
            "Your average grade for this semester is 91.80\n",
            "\n",
            "Do you want to exit or restart the program?\n",
            "Press 1 to restart\n",
            "Press any key to terminate\n",
            ":g\n"
          ]
        }
      ]
    }
  ]
}