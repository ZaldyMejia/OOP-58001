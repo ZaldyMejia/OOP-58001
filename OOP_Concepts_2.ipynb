{
  "nbformat": 4,
  "nbformat_minor": 0,
  "metadata": {
    "colab": {
      "name": "OOP Concepts_2.ipynb",
      "provenance": [],
      "authorship_tag": "ABX9TyOGtMTNuMelQsmh37XdCoob",
      "include_colab_link": true
    },
    "kernelspec": {
      "name": "python3",
      "display_name": "Python 3"
    },
    "language_info": {
      "name": "python"
    }
  },
  "cells": [
    {
      "cell_type": "markdown",
      "metadata": {
        "id": "view-in-github",
        "colab_type": "text"
      },
      "source": [
        "<a href=\"https://colab.research.google.com/github/ZaldyMejia/OOP-58001/blob/main/OOP_Concepts_2.ipynb\" target=\"_parent\"><img src=\"https://colab.research.google.com/assets/colab-badge.svg\" alt=\"Open In Colab\"/></a>"
      ]
    },
    {
      "cell_type": "markdown",
      "source": [
        "Classses with multiple objects"
      ],
      "metadata": {
        "id": "zEEjNNcyvy3j"
      }
    },
    {
      "cell_type": "code",
      "execution_count": 6,
      "metadata": {
        "colab": {
          "base_uri": "https://localhost:8080/"
        },
        "id": "Nre6SZH_uNbK",
        "outputId": "c12c482a-5059-4b7c-b0d6-797fe65ceb8d"
      },
      "outputs": [
        {
          "output_type": "stream",
          "name": "stdout",
          "text": [
            "Griffon Vulture flies above the clouds\n",
            "Common Crane flies above the clouds\n",
            "Emu flies above the clouds\n"
          ]
        }
      ],
      "source": [
        "class Birds:\n",
        "  def __init__(self, birdname):\n",
        "    self.birdname = birdname\n",
        "\n",
        "  def flyingbird (self):\n",
        "    print(f\"{self.birdname} flies above the clouds\")\n",
        "\n",
        "  def non_flying_birds (self):\n",
        "    print(f\"{self.birdname} is the national bird of the Philippines\")\n",
        "\n",
        "Vulture = Birds(\"Griffon Vulture\")\n",
        "Crane = Birds(\"Common Crane\")\n",
        "Emu = Birds(\"Emu\")\n",
        "\n",
        "Vulture.flyingbird()\n",
        "Crane.flyingbird()\n",
        "Emu.flyingbird()\n"
      ]
    },
    {
      "cell_type": "markdown",
      "source": [
        "Encapsulation with private attributes"
      ],
      "metadata": {
        "id": "4uocIjjfyVNI"
      }
    },
    {
      "cell_type": "code",
      "source": [
        "class foo:\n",
        "  def __init__(self, a, b):\n",
        "    self.a = a\n",
        "    self.b = b\n",
        "\n",
        "  def add (self):\n",
        "    print(self.a + self.b)\n",
        "\n",
        "foo_object = foo(3,4)\n",
        "foo_object.add()\n",
        "\n",
        "foo_object.a = 5\n",
        "foo_object.b = 6\n",
        "foo_object.add()"
      ],
      "metadata": {
        "colab": {
          "base_uri": "https://localhost:8080/"
        },
        "id": "l4--Zvs-ynu4",
        "outputId": "7d7b95b8-1789-4d12-8c91-e5eaf4597a25"
      },
      "execution_count": 16,
      "outputs": [
        {
          "output_type": "stream",
          "name": "stdout",
          "text": [
            "7\n",
            "11\n"
          ]
        }
      ]
    },
    {
      "cell_type": "markdown",
      "source": [
        "Encapsulation"
      ],
      "metadata": {
        "id": "z66ouwbf23MF"
      }
    },
    {
      "cell_type": "code",
      "source": [
        "class Counter:\n",
        "    def __init__(self):\n",
        "        self.current = 0\n",
        "\n",
        "    def increment(self):\n",
        "        self.current += 1\n",
        "\n",
        "    def value(self):\n",
        "        return self.current\n",
        "\n",
        "    def reset(self):\n",
        "        self.current = 0\n",
        "\n",
        "obj1 = Counter()\n",
        "obj1.increment()\n",
        "obj1.increment()\n",
        "obj1.increment()\n",
        "obj1.increment()\n",
        "obj1.increment()\n",
        "obj1.increment()\n",
        "obj1.increment()\n",
        "obj1.value()\n",
        "obj1.reset()\n",
        "obj1.increment()\n",
        "obj1.value()"
      ],
      "metadata": {
        "colab": {
          "base_uri": "https://localhost:8080/"
        },
        "id": "UrtjeH3v2546",
        "outputId": "06ba8f3a-3782-49a1-f321-c40f93bf0e48"
      },
      "execution_count": 24,
      "outputs": [
        {
          "output_type": "execute_result",
          "data": {
            "text/plain": [
              "1"
            ]
          },
          "metadata": {},
          "execution_count": 24
        }
      ]
    },
    {
      "cell_type": "markdown",
      "source": [
        "Inheritance"
      ],
      "metadata": {
        "id": "W7rVb1w97aAN"
      }
    },
    {
      "cell_type": "code",
      "source": [
        "class Person:\n",
        "  def __init__(self, fname, sname):\n",
        "    self.fname = fname\n",
        "    self.sname = sname\n",
        "  def printname(self):\n",
        "    print(self.fname , self.sname)\n",
        "\n",
        "x = Person(\"Zaldy\", \"Mejia\")\n",
        "x.printname()\n",
        "\n",
        "class Student(Person):\n",
        "  pass\n",
        "\n",
        "y = Student(\"Zaldy\", \"Mejia\")\n",
        "y.printname()"
      ],
      "metadata": {
        "colab": {
          "base_uri": "https://localhost:8080/"
        },
        "id": "a6yQ1KJJ7Zil",
        "outputId": "33fee128-24f3-4446-d748-67579e444be7"
      },
      "execution_count": 26,
      "outputs": [
        {
          "output_type": "stream",
          "name": "stdout",
          "text": [
            "Zaldy Mejia\n",
            "Zaldy Mejia\n"
          ]
        }
      ]
    },
    {
      "cell_type": "markdown",
      "source": [
        "Polymorphism"
      ],
      "metadata": {
        "id": "P8klGYGr-vn6"
      }
    },
    {
      "cell_type": "code",
      "source": [
        "class RegularPolygon:\n",
        "  def __init__(self, side):\n",
        "    self.side = side\n",
        "\n",
        "class Square(RegularPolygon):\n",
        "  def area (self):\n",
        "    return self.side*self.side\n",
        "\n",
        "class EquilateralTriangle(RegularPolygon):\n",
        "  def area (self):\n",
        "    return self.side*self.side*0.433\n",
        "\n",
        "obj1 = Square(4)\n",
        "obj2 = EquilateralTriangle(3)\n",
        "\n",
        "print(obj1.area())\n",
        "obj2.area()"
      ],
      "metadata": {
        "colab": {
          "base_uri": "https://localhost:8080/"
        },
        "id": "2I-_9gEr-xOa",
        "outputId": "72134460-3475-4139-8826-d263ac3ec663"
      },
      "execution_count": 42,
      "outputs": [
        {
          "output_type": "stream",
          "name": "stdout",
          "text": [
            "16\n"
          ]
        },
        {
          "output_type": "execute_result",
          "data": {
            "text/plain": [
              "3.897"
            ]
          },
          "metadata": {},
          "execution_count": 42
        }
      ]
    }
  ]
}