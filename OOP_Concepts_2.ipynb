{
  "nbformat": 4,
  "nbformat_minor": 0,
  "metadata": {
    "colab": {
      "name": "OOP Concepts_2.ipynb",
      "provenance": [],
      "authorship_tag": "ABX9TyNO7c1cu1H1aqBChDHuiaKU",
      "include_colab_link": true
    },
    "kernelspec": {
      "name": "python3",
      "display_name": "Python 3"
    },
    "language_info": {
      "name": "python"
    }
  },
  "cells": [
    {
      "cell_type": "markdown",
      "metadata": {
        "id": "view-in-github",
        "colab_type": "text"
      },
      "source": [
        "<a href=\"https://colab.research.google.com/github/ZaldyMejia/OOP-58001/blob/main/OOP_Concepts_2.ipynb\" target=\"_parent\"><img src=\"https://colab.research.google.com/assets/colab-badge.svg\" alt=\"Open In Colab\"/></a>"
      ]
    },
    {
      "cell_type": "markdown",
      "source": [
        "Classes with multiple objects"
      ],
      "metadata": {
        "id": "zEEjNNcyvy3j"
      }
    },
    {
      "cell_type": "code",
      "execution_count": 3,
      "metadata": {
        "colab": {
          "base_uri": "https://localhost:8080/"
        },
        "id": "Nre6SZH_uNbK",
        "outputId": "c9a2160d-75ec-45f8-acd2-68d72f7a07e9"
      },
      "outputs": [
        {
          "output_type": "stream",
          "name": "stdout",
          "text": [
            "Griffon Vulture flies above the clouds\n",
            "Common Crane flies above the clouds\n",
            "Emus cannot fly!\n",
            "Philippine Eagle is the national bird of the Philippines\n"
          ]
        }
      ],
      "source": [
        "class Birds:\n",
        "  def __init__(self, birdname):\n",
        "    self.birdname = birdname\n",
        "\n",
        "  def flyingbird (self):\n",
        "    print(f\"{self.birdname} flies above the clouds\")\n",
        "\n",
        "  def non_flying_birds (self):\n",
        "    print(f\"{self.birdname} cannot fly!\")\n",
        "\n",
        "class localbirds(Birds):\n",
        "  def flyingbird (self):\n",
        "    print(f\"{self.birdname} is the national bird of the Philippines\")\n",
        "\n",
        "Vulture = Birds(\"Griffon Vulture\")\n",
        "Crane = Birds(\"Common Crane\")\n",
        "Emu = Birds(\"Emus\")\n",
        "Philippine_Eagle = localbirds(\"Philippine Eagle\")\n",
        "\n",
        "Vulture.flyingbird()\n",
        "Crane.flyingbird()\n",
        "Emu.non_flying_birds() \n",
        "Philippine_Eagle.flyingbird()\n"
      ]
    },
    {
      "cell_type": "markdown",
      "source": [
        "Encapsulation with private attributes"
      ],
      "metadata": {
        "id": "4uocIjjfyVNI"
      }
    },
    {
      "cell_type": "code",
      "source": [
        "class foo:\n",
        "  def __init__(self,a,b):\n",
        "    self.__a = a\n",
        "    self.__b = b\n",
        "\n",
        "  def add (self):\n",
        "    print(self.__a + self.__b)\n",
        "\n",
        "foo_object = foo(3,4)\n",
        "print(foo_object.__a)\n",
        "foo_object.__b()"
      ],
      "metadata": {
        "colab": {
          "base_uri": "https://localhost:8080/",
          "height": 217
        },
        "id": "l4--Zvs-ynu4",
        "outputId": "755f7803-dbc6-44b4-dce7-971d4617184b"
      },
      "execution_count": 57,
      "outputs": [
        {
          "output_type": "error",
          "ename": "AttributeError",
          "evalue": "ignored",
          "traceback": [
            "\u001b[0;31m---------------------------------------------------------------------------\u001b[0m",
            "\u001b[0;31mAttributeError\u001b[0m                            Traceback (most recent call last)",
            "\u001b[0;32m<ipython-input-57-fb05b1824292>\u001b[0m in \u001b[0;36m<module>\u001b[0;34m()\u001b[0m\n\u001b[1;32m      8\u001b[0m \u001b[0;34m\u001b[0m\u001b[0m\n\u001b[1;32m      9\u001b[0m \u001b[0mfoo_object\u001b[0m \u001b[0;34m=\u001b[0m \u001b[0mfoo\u001b[0m\u001b[0;34m(\u001b[0m\u001b[0;36m3\u001b[0m\u001b[0;34m,\u001b[0m\u001b[0;36m4\u001b[0m\u001b[0;34m)\u001b[0m\u001b[0;34m\u001b[0m\u001b[0;34m\u001b[0m\u001b[0m\n\u001b[0;32m---> 10\u001b[0;31m \u001b[0mprint\u001b[0m\u001b[0;34m(\u001b[0m\u001b[0mfoo_object\u001b[0m\u001b[0;34m.\u001b[0m\u001b[0m__a\u001b[0m\u001b[0;34m)\u001b[0m\u001b[0;34m\u001b[0m\u001b[0;34m\u001b[0m\u001b[0m\n\u001b[0m\u001b[1;32m     11\u001b[0m \u001b[0mfoo_object\u001b[0m\u001b[0;34m.\u001b[0m\u001b[0m__b\u001b[0m\u001b[0;34m(\u001b[0m\u001b[0;34m)\u001b[0m\u001b[0;34m\u001b[0m\u001b[0;34m\u001b[0m\u001b[0m\n",
            "\u001b[0;31mAttributeError\u001b[0m: 'foo' object has no attribute '__a'"
          ]
        }
      ]
    },
    {
      "cell_type": "markdown",
      "source": [
        "Encapsulation but we access the private attributes using the getter and setter method"
      ],
      "metadata": {
        "id": "JxNMD3AQrZH5"
      }
    },
    {
      "cell_type": "code",
      "source": [
        "class foo:\n",
        "  def __init__(self,a,b):\n",
        "    self.__a = a\n",
        "    self.__b = b\n",
        "\n",
        "  def add (self):\n",
        "    print(self.__a + self.__b)\n",
        "\n",
        "  def get_a(self):\n",
        "    return self.__a\n",
        "\n",
        "  def set_a(self, x):\n",
        "     self.__a = x\n",
        "  \n",
        "  def get_b(self):\n",
        "    return self.__b\n",
        "\n",
        "  def set_b(self, x):\n",
        "     self.__b = x\n",
        "\n",
        "foo_object = foo({},{})\n",
        "foo_object.set_a(10)\n",
        "print(foo_object.get_a())\n",
        "foo_object.set_b(10)\n",
        "print(foo_object.get_b())\n",
        "foo_object.add()"
      ],
      "metadata": {
        "id": "FDjD61ATrfAB",
        "outputId": "6881d845-f432-4f1b-b001-dc54cd61377f",
        "colab": {
          "base_uri": "https://localhost:8080/"
        }
      },
      "execution_count": 72,
      "outputs": [
        {
          "output_type": "stream",
          "name": "stdout",
          "text": [
            "10\n",
            "10\n",
            "20\n"
          ]
        }
      ]
    },
    {
      "cell_type": "markdown",
      "source": [
        "Encapsulation by mangling with underscores"
      ],
      "metadata": {
        "id": "z66ouwbf23MF"
      }
    },
    {
      "cell_type": "code",
      "source": [
        "class Counter:\n",
        "    def __init__(self):\n",
        "        self.__current = 0\n",
        "\n",
        "    def increment(self):\n",
        "        self.__current += 1\n",
        "\n",
        "    def value(self):\n",
        "        return self.__current\n",
        "\n",
        "    def reset(self):\n",
        "        self.__current = 0\n",
        "\n",
        "obj1 = Counter()\n",
        "obj1.increment()\n",
        "obj1.increment()\n",
        "obj1.increment()\n",
        "obj1.increment()\n",
        "obj1.increment()\n",
        "obj1.increment()\n",
        "obj1.increment()\n",
        "print(obj1.value())\n",
        "obj1.reset()\n",
        "obj1.increment()\n",
        "obj1.value()"
      ],
      "metadata": {
        "colab": {
          "base_uri": "https://localhost:8080/"
        },
        "id": "UrtjeH3v2546",
        "outputId": "b8f1056f-2c0f-4d68-d040-869a9194872c"
      },
      "execution_count": null,
      "outputs": [
        {
          "output_type": "stream",
          "name": "stdout",
          "text": [
            "7\n"
          ]
        },
        {
          "output_type": "execute_result",
          "data": {
            "text/plain": [
              "1"
            ]
          },
          "metadata": {},
          "execution_count": 3
        }
      ]
    },
    {
      "cell_type": "markdown",
      "source": [
        "Inheritance"
      ],
      "metadata": {
        "id": "W7rVb1w97aAN"
      }
    },
    {
      "cell_type": "code",
      "source": [
        "class Person:\n",
        "  def __init__(self, fname, sname):\n",
        "    self.fname = fname\n",
        "    self.sname = sname\n",
        "  def printname(self):\n",
        "    print(self.fname , self.sname)\n",
        "\n",
        "x = Person(\"Zaldy\", \"Mejia\")\n",
        "x.printname()\n",
        "\n",
        "class Student(Person):\n",
        "  pass\n",
        "\n",
        "y = Student(\"Zaldy\", \"Mejia\")\n",
        "y.printname()"
      ],
      "metadata": {
        "colab": {
          "base_uri": "https://localhost:8080/"
        },
        "id": "a6yQ1KJJ7Zil",
        "outputId": "271e4e00-84d7-499f-ef73-93fbd1e22dd4"
      },
      "execution_count": null,
      "outputs": [
        {
          "output_type": "stream",
          "name": "stdout",
          "text": [
            "Zaldy Mejia\n",
            "Zaldy Mejia\n"
          ]
        }
      ]
    },
    {
      "cell_type": "markdown",
      "source": [
        "Polymorphism"
      ],
      "metadata": {
        "id": "P8klGYGr-vn6"
      }
    },
    {
      "cell_type": "code",
      "source": [
        "class RegularPolygon:\n",
        "  def __init__(self, side):\n",
        "    self.side = side\n",
        "\n",
        "  def area (self):\n",
        "    pass\n",
        "\n",
        "class Square(RegularPolygon):\n",
        "  def area (self):\n",
        "    return self.side*self.side\n",
        "\n",
        "class EquilateralTriangle(RegularPolygon):\n",
        "  def area (self):\n",
        "    return self.side*self.side*0.433\n",
        "\n",
        "obj1 = Square(4)\n",
        "obj2 = EquilateralTriangle(3)\n",
        "\n",
        "print(obj1.area())\n",
        "obj2.area()"
      ],
      "metadata": {
        "colab": {
          "base_uri": "https://localhost:8080/"
        },
        "id": "2I-_9gEr-xOa",
        "outputId": "b3375be4-7a3b-405b-f48e-254882d3c7ac"
      },
      "execution_count": 73,
      "outputs": [
        {
          "output_type": "stream",
          "name": "stdout",
          "text": [
            "16\n"
          ]
        },
        {
          "output_type": "execute_result",
          "data": {
            "text/plain": [
              "3.897"
            ]
          },
          "metadata": {},
          "execution_count": 73
        }
      ]
    },
    {
      "cell_type": "markdown",
      "source": [
        "Application 1\n",
        "\n",
        "1. Create a Python program that displays the name of three students (Student 1, Student 2, Student 3) and their term grades\n",
        "\n",
        "2. Create a class name Person and attributes -std1, std2, std3, pre, mid, fin\n",
        "\n",
        "3. Compute the average of each term grade using Grade()method\n",
        "\n",
        "4. Information about student's grade must be hidden from others"
      ],
      "metadata": {
        "id": "_uOhoBddd2jR"
      }
    },
    {
      "cell_type": "code",
      "source": [
        "\n",
        "class person:\n",
        "    def __init__(self, students, pre, mid, fin):\n",
        "        self.__students = students\n",
        "        self.__pre = pre\n",
        "        self.__mid = mid\n",
        "        self.__fin = fin\n",
        "     \n",
        "    def grades(self):\n",
        "        return self.__pre*0.3 + self.__mid*0.3 + self.__fin*0.4\n",
        "        \n",
        "    def display(self):\n",
        "        print(\"Student name: %s\" %(self.__students))\n",
        "        print(f\"Prelim Grade: {self.__pre}\\nMidterm Grade: {self.__mid}\\nFinals Grade: {self.__fin}\")\n",
        "        print(\"Your average grade for this semester is %0.2f\\n\" % (self.grades()))\n",
        "        \n",
        "class student(person):\n",
        "  pass\n",
        "   \n",
        "Student1 = student(\"Zaldy Mejia\",89,88,92)\n",
        "Student2 = student(\"James Alderney\",84,81,87)\n",
        "Student3 = student(\"Vincent Fabron\",89,93,93)\n",
        "\n",
        "turn = 0\n",
        "\n",
        "while turn == 0:\n",
        "    Student = str(input(\"Enter your student Number: \"))\n",
        "\n",
        "    if Student == \"202111103\":\n",
        "        Student1.display()\n",
        "    elif Student == \"202135909\":\n",
        "        Student2.display()\n",
        "    elif Student == \"202111697\":\n",
        "        Student3.display()\n",
        "    elif Student == \"00000\":\n",
        "      for x in (Student1, Student2, Student3):\n",
        "        x.display()\n",
        "    else:\n",
        "        print(\"Invalid Student Number\")\n",
        "    \n",
        "    re = str(input(\"Do you want to exit or restart the program?\\nPress 1 to restart\\nPress any key to terminate\\n:\"))\n",
        "    if re == \"1\":\n",
        "        turn = 0\n",
        "    else:\n",
        "        turn+=1"
      ],
      "metadata": {
        "id": "uDFSIPklekAS",
        "outputId": "a8c1aa4b-28bd-4425-86c2-daaad7c9bfcc",
        "colab": {
          "base_uri": "https://localhost:8080/"
        }
      },
      "execution_count": 81,
      "outputs": [
        {
          "name": "stdout",
          "output_type": "stream",
          "text": [
            "Enter your student Number: 202111103\n",
            "Student name: Zaldy Mejia\n",
            "Prelim Grade: 89\n",
            "Midterm Grade: 88\n",
            "Finals Grade: 92\n",
            "Your average grade for this semester is 89.90\n",
            "\n",
            "Do you want to exit or restart the program?\n",
            "Press 1 to restart\n",
            "Press any key to terminate\n",
            ":1\n",
            "Enter your student Number: 202135909\n",
            "Student name: James Alderney\n",
            "Prelim Grade: 84\n",
            "Midterm Grade: 81\n",
            "Finals Grade: 87\n",
            "Your average grade for this semester is 84.30\n",
            "\n",
            "Do you want to exit or restart the program?\n",
            "Press 1 to restart\n",
            "Press any key to terminate\n",
            ":1\n",
            "Enter your student Number: 202111697\n",
            "Student name: Vincent Fabron\n",
            "Prelim Grade: 89\n",
            "Midterm Grade: 93\n",
            "Finals Grade: 93\n",
            "Your average grade for this semester is 91.80\n",
            "\n",
            "Do you want to exit or restart the program?\n",
            "Press 1 to restart\n",
            "Press any key to terminate\n",
            ":1\n",
            "Enter your student Number: 00000\n",
            "Student name: Zaldy Mejia\n",
            "Prelim Grade: 89\n",
            "Midterm Grade: 88\n",
            "Finals Grade: 92\n",
            "Your average grade for this semester is 89.90\n",
            "\n",
            "Student name: James Alderney\n",
            "Prelim Grade: 84\n",
            "Midterm Grade: 81\n",
            "Finals Grade: 87\n",
            "Your average grade for this semester is 84.30\n",
            "\n",
            "Student name: Vincent Fabron\n",
            "Prelim Grade: 89\n",
            "Midterm Grade: 93\n",
            "Finals Grade: 93\n",
            "Your average grade for this semester is 91.80\n",
            "\n",
            "Do you want to exit or restart the program?\n",
            "Press 1 to restart\n",
            "Press any key to terminate\n",
            ":goodbye :)\n"
          ]
        }
      ]
    }
  ]
}